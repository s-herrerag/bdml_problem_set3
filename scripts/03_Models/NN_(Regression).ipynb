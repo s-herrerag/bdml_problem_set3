{
  "nbformat": 4,
  "nbformat_minor": 0,
  "metadata": {
    "colab": {
      "provenance": []
    },
    "kernelspec": {
      "name": "ir",
      "display_name": "R"
    },
    "language_info": {
      "name": "R"
    }
  },
  "cells": [
    {
      "cell_type": "code",
      "execution_count": null,
      "metadata": {
        "id": "TFUtts9aU25i"
      },
      "outputs": [],
      "source": [
        "# Usamos la función pacman para llamar las bibliotecas necesarias para el análisis\n",
        "#install.packages('pacman')\n",
        "library(pacman)\n",
        "p_load(tidyverse,rio,tidymodels, keras, ggplot2, themis, yardstick, tensorflow)"
      ]
    },
    {
      "cell_type": "code",
      "source": [
        "# Cargar datos y eliminar columnas que no son predictores ------------------------------------------------------------\n",
        "\n",
        "train <- readRDS(\"train_final.rds\")\n",
        "train_sin_bog <- readRDS(\"train_final_sin_bog.rds\")\n",
        "test <- readRDS(\"test_final.rds\")\n",
        "\n",
        "#Seleccion basada en Lasso\n",
        "coefs_lasso <- read_csv(\"coefs_lasso.csv\")\n",
        "\n",
        "#Seleccionar variables\n",
        "remove_lasso <- coefs_lasso %>%\n",
        "  filter(estimate == 0) %>%\n",
        "  select(term)\n",
        "remove_lasso <- remove_lasso$term\n",
        "\n",
        "train_reg <- train_sin_bog %>%\n",
        "  select(-c(Lp, Ingpcug, Pobre, train, Clase))\n",
        "\n",
        "#Validation set para train sin Bogotá\n",
        "\n",
        "set.seed(123)\n",
        "\n",
        "validation_set <- train_reg %>%\n",
        "  sample_frac(0.15)\n",
        "\n",
        "validation_pre_train <- train_reg %>%\n",
        "  anti_join(validation_set, by = \"id\")\n",
        "\n",
        "validation_test <- validation_pre_train %>%\n",
        "  sample_frac(0.15)\n",
        "\n",
        "validation_train <- validation_pre_train %>%\n",
        "  anti_join(validation_test, by = \"id\") %>%\n",
        "  select(-id)\n",
        "\n",
        "# Modelo ------------------------------------------------------------------\n",
        "\n",
        "# Recipe (prep) -----------------------------------------------------------\n",
        "\n",
        "rec_prep_networks <-\n",
        "  recipe(lIngpcug ~ ., data = validation_train) %>%\n",
        "  step_dummy(all_of(c(\"Dominio\")), -all_outcomes()) %>%\n",
        "  step_interact(terms = ~ P5130:starts_with(\"Dominio\")) %>%\n",
        "  step_interact(terms = ~ Educ_avg:starts_with(\"Dominio\")) %>%\n",
        "  step_interact(terms = ~ tasa_ocupados:starts_with(\"Dominio\")) %>%\n",
        "  step_interact(terms = ~ tasa_inactivos:starts_with(\"Dominio\")) %>%\n",
        "  step_interact(terms = ~ P5000:starts_with(\"Dominio\")) %>%\n",
        "  step_interact(terms = ~ edad_pet:starts_with(\"Dominio\")) %>%\n",
        "  step_rm(any_of(remove_lasso)) %>%\n",
        "  step_zv(all_predictors()) %>%\n",
        "  step_normalize(all_numeric_predictors(), -all_outcomes()) %>%\n",
        "  step_pca(all_numeric_predictors(), threshold = 0.8)\n",
        "\n",
        "\n",
        "# Aplicar el preprocesamiento para normalizar los datos\n",
        "x_val <- prep(rec_prep_networks) %>% bake(new_data = validation_train) %>% select(-lIngpcug)\n",
        "\n",
        "# Convertir columnas categóricas a variables dummy\n",
        "x_val <- x_val %>%\n",
        "  model.matrix(~ . - 1, data = .)\n",
        "\n",
        "# Aplicar el preprocesamiento para normalizar los datos\n",
        "x_test <- prep(rec_prep_networks) %>% bake(new_data = test) #%>% select(-Pobre)\n",
        "\n",
        "x_test <- x_test %>%\n",
        "  model.matrix(~ . - 1, data = .)\n",
        "\n",
        "# Aplicar el preprocesamiento para normalizar los datos\n",
        "x_val_set <- prep(rec_prep_networks) %>% bake(new_data = validation_set) %>% select(-lIngpcug)\n",
        "\n",
        "# Convertir columnas categóricas a variables dummy\n",
        "x_val_set <- x_val_set %>%\n",
        "  model.matrix(~ . - 1, data = .)\n",
        "\n",
        "# Aplicar el preprocesamiento para normalizar los datos\n",
        "x_val_test <- prep(rec_prep_networks) %>% bake(new_data = validation_test) %>% select(-lIngpcug)\n",
        "\n",
        "x_val_test <- x_val_test %>%\n",
        "  model.matrix(~ . - 1, data = .)\n",
        "\n",
        "# Sacar dependientes y eliminarlas\n",
        "y_val <- validation_train$lIngpcug\n",
        "y_val_set <- validation_set$lIngpcug\n",
        "y_val_test <- validation_test$lIngpcug\n",
        "\n",
        "# Entrenamiento -----------------------------------------------------------\n",
        "\n",
        "EPOCHS <- 30\n",
        "BATCH_SIZE <- 3000"
      ],
      "metadata": {
        "colab": {
          "base_uri": "https://localhost:8080/"
        },
        "id": "mPM08KldVBpT",
        "outputId": "c02540b3-6048-4215-b8c5-c26237a93e70"
      },
      "execution_count": null,
      "outputs": [
        {
          "output_type": "stream",
          "name": "stderr",
          "text": [
            "\u001b[1mRows: \u001b[22m\u001b[34m238\u001b[39m \u001b[1mColumns: \u001b[22m\u001b[34m3\u001b[39m\n",
            "\u001b[36m──\u001b[39m \u001b[1mColumn specification\u001b[22m \u001b[36m────────────────────────────────────────────────────────\u001b[39m\n",
            "\u001b[1mDelimiter:\u001b[22m \",\"\n",
            "\u001b[31mchr\u001b[39m (1): term\n",
            "\u001b[32mdbl\u001b[39m (2): estimate, penalty\n",
            "\n",
            "\u001b[36mℹ\u001b[39m Use `spec()` to retrieve the full column specification for this data.\n",
            "\u001b[36mℹ\u001b[39m Specify the column types or set `show_col_types = FALSE` to quiet this message.\n"
          ]
        }
      ]
    },
    {
      "cell_type": "code",
      "source": [
        "# Arquitectura del modelo\n",
        "model <- keras_model_sequential() %>%\n",
        "  layer_dense(units = 150, activation = 'relu',\n",
        "              input_shape = dim(x_val)[2],\n",
        "              kernel_initializer = initializer_random_uniform()) %>%\n",
        "  layer_dropout(rate = 0.1) %>%\n",
        "  layer_dense(units = 150, activation = 'relu',\n",
        "              input_shape = dim(x_val)[2],\n",
        "              kernel_initializer = initializer_random_uniform()) %>%\n",
        "  layer_dropout(rate = 0.1) %>%\n",
        "  layer_dense(units = 1, activation = 'linear')\n",
        "\n",
        "# El compilador del modelo\n",
        "model %>% compile(\n",
        "  loss = \"mean_squared_error\",\n",
        "  optimizer = optimizer_rmsprop(),\n",
        "  metrics = c(\"mean_squared_error\")\n",
        ")\n",
        "\n"
      ],
      "metadata": {
        "id": "WiBLePynVNSS"
      },
      "execution_count": null,
      "outputs": []
    },
    {
      "cell_type": "code",
      "source": [
        "# Entrenamiento\n",
        "model_regression <- model %>% fit(\n",
        "  x = x_val,\n",
        "  y = as.matrix(y_val),\n",
        "  batch_size = BATCH_SIZE,\n",
        "  epochs = 30,\n",
        "  validation_data = list(x_val_set, as.matrix(y_val_set)),\n",
        "  verbose = 0,\n",
        "  seed = 12\n",
        ")"
      ],
      "metadata": {
        "id": "4IAVEMuYYrkr"
      },
      "execution_count": null,
      "outputs": []
    },
    {
      "cell_type": "code",
      "source": [
        "#Evaluacion\n",
        "results <- model %>% evaluate(x_val_test, y_val_test, verbose = 0)\n",
        "results"
      ],
      "metadata": {
        "colab": {
          "base_uri": "https://localhost:8080/",
          "height": 34
        },
        "id": "1scOoJK2aYRy",
        "outputId": "68468a0d-51b0-4200-d553-c2772c0340c5"
      },
      "execution_count": null,
      "outputs": [
        {
          "output_type": "display_data",
          "data": {
            "text/html": [
              "<style>\n",
              ".dl-inline {width: auto; margin:0; padding: 0}\n",
              ".dl-inline>dt, .dl-inline>dd {float: none; width: auto; display: inline-block}\n",
              ".dl-inline>dt::after {content: \":\\0020\"; padding-right: .5ex}\n",
              ".dl-inline>dt:not(:first-of-type) {padding-left: .5ex}\n",
              "</style><dl class=dl-inline><dt>loss</dt><dd>1.11246752738953</dd><dt>mean_squared_error</dt><dd>1.11114299297333</dd></dl>\n"
            ],
            "text/markdown": "loss\n:   1.11246752738953mean_squared_error\n:   1.11114299297333\n\n",
            "text/latex": "\\begin{description*}\n\\item[loss] 1.11246752738953\n\\item[mean\\textbackslash{}\\_squared\\textbackslash{}\\_error] 1.11114299297333\n\\end{description*}\n",
            "text/plain": [
              "              loss mean_squared_error \n",
              "          1.112468           1.111143 "
            ]
          },
          "metadata": {}
        }
      ]
    },
    {
      "cell_type": "code",
      "source": [
        "#Prediccion fuera de muestra\n",
        "nn_predictions <- predict(model, x_test) %>%\n",
        "  bind_cols(test$id) %>%\n",
        "  bind_cols(test$Lp) %>%\n",
        "  rename(c(\"predictions\"=\"...1\",\"id\"=\"...2\", \"Lp\" = \"...3\")) %>%\n",
        "  mutate(Ingpcug=exp(predictions)) %>%\n",
        "  mutate(pobre = ifelse(Ingpcug<=Lp,1,0)) %>%\n",
        "  select(-c(predictions, Ingpcug, Lp))"
      ],
      "metadata": {
        "colab": {
          "base_uri": "https://localhost:8080/"
        },
        "id": "mK5r9jh2bfFw",
        "outputId": "6a615cf6-971d-437a-f88f-0cf09557f53c"
      },
      "execution_count": null,
      "outputs": [
        {
          "output_type": "stream",
          "name": "stderr",
          "text": [
            "\u001b[1m\u001b[22mNew names:\n",
            "\u001b[36m•\u001b[39m `` -> `...1`\n",
            "\u001b[36m•\u001b[39m `` -> `...2`\n",
            "\u001b[1m\u001b[22mNew names:\n",
            "\u001b[36m•\u001b[39m `` -> `...3`\n"
          ]
        }
      ]
    },
    {
      "cell_type": "code",
      "source": [
        "summary(nn_predictions)"
      ],
      "metadata": {
        "colab": {
          "base_uri": "https://localhost:8080/",
          "height": 142
        },
        "id": "iWchvl4-aYPy",
        "outputId": "63ed90ef-d80a-4bad-fc6a-280d4d141d66"
      },
      "execution_count": null,
      "outputs": [
        {
          "output_type": "display_data",
          "data": {
            "text/plain": [
              "      id                pobre       \n",
              " Length:66168       Min.   :0.0000  \n",
              " Class :character   1st Qu.:0.0000  \n",
              " Mode  :character   Median :0.0000  \n",
              "                    Mean   :0.1287  \n",
              "                    3rd Qu.:0.0000  \n",
              "                    Max.   :1.0000  "
            ]
          },
          "metadata": {}
        }
      ]
    },
    {
      "cell_type": "code",
      "source": [
        "write_csv(nn_predictions, \"regression_neural_networks.csv\")"
      ],
      "metadata": {
        "id": "rD4mY9Y2aYNl"
      },
      "execution_count": null,
      "outputs": []
    },
    {
      "cell_type": "code",
      "source": [],
      "metadata": {
        "id": "dBSHW6YaaYHL"
      },
      "execution_count": null,
      "outputs": []
    }
  ]
}