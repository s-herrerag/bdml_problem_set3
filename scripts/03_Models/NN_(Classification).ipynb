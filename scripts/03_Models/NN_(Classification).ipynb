{
  "nbformat": 4,
  "nbformat_minor": 0,
  "metadata": {
    "colab": {
      "provenance": []
    },
    "kernelspec": {
      "name": "ir",
      "display_name": "R"
    },
    "language_info": {
      "name": "R"
    }
  },
  "cells": [
    {
      "cell_type": "code",
      "execution_count": null,
      "metadata": {
        "colab": {
          "base_uri": "https://localhost:8080/"
        },
        "id": "-PNql4qeDycS",
        "outputId": "9328a0bc-8985-4be1-c2a9-54978526a837"
      },
      "outputs": [
        {
          "output_type": "stream",
          "name": "stderr",
          "text": [
            "\n",
            "rio installed\n",
            "\n",
            "Installing package into ‘/usr/local/lib/R/site-library’\n",
            "(as ‘lib’ is unspecified)\n",
            "\n",
            "also installing the dependencies ‘shape’, ‘future.apply’, ‘numDeriv’, ‘progressr’, ‘SQUAREM’, ‘Rcpp’, ‘diagram’, ‘lava’, ‘listenv’, ‘parallelly’, ‘prodlim’, ‘future’, ‘warp’, ‘iterators’, ‘lhs’, ‘DiceDesign’, ‘patchwork’, ‘globals’, ‘clock’, ‘gower’, ‘ipred’, ‘timeDate’, ‘furrr’, ‘slider’, ‘foreach’, ‘GPfit’, ‘modelenv’, ‘dials’, ‘hardhat’, ‘infer’, ‘modeldata’, ‘parsnip’, ‘recipes’, ‘rsample’, ‘tune’, ‘workflows’, ‘workflowsets’, ‘yardstick’\n",
            "\n",
            "\n",
            "\n",
            "tidymodels installed\n",
            "\n",
            "Installing package into ‘/usr/local/lib/R/site-library’\n",
            "(as ‘lib’ is unspecified)\n",
            "\n",
            "also installing the dependencies ‘RcppTOML’, ‘here’, ‘png’, ‘config’, ‘tfautograph’, ‘reticulate’, ‘tensorflow’, ‘tfruns’, ‘zeallot’\n",
            "\n",
            "\n",
            "\n",
            "keras installed\n",
            "\n",
            "Installing package into ‘/usr/local/lib/R/site-library’\n",
            "(as ‘lib’ is unspecified)\n",
            "\n",
            "also installing the dependencies ‘RANN’, ‘ROSE’\n",
            "\n",
            "\n",
            "\n",
            "themis installed\n",
            "\n"
          ]
        }
      ],
      "source": [
        "# Usamos la función pacman para llamar las bibliotecas necesarias para el análisis\n",
        "install.packages('pacman')\n",
        "library(pacman)\n",
        "p_load(tidyverse,rio,tidymodels, keras, ggplot2, themis, yardstick, tensorflow)"
      ]
    },
    {
      "cell_type": "code",
      "source": [
        "# Cargar datos y eliminar columnas que no son predictores ------------------------------------------------------------\n",
        "\n",
        "train <- readRDS(\"train_final.rds\")\n",
        "train_sin_bog <- readRDS(\"train_final_sin_bog.rds\")\n",
        "test <- readRDS(\"test_final.rds\")\n",
        "\n",
        "#Seleccion basada en Lasso\n",
        "coefs_lasso <- read_csv(\"coefs_lasso.csv\")\n",
        "\n",
        "#Seleccionar variables\n",
        "remove_lasso <- coefs_lasso %>%\n",
        "  filter(estimate == 0) %>%\n",
        "  select(term)\n",
        "remove_lasso <- remove_lasso$term\n",
        "\n",
        "train_clas <- train_sin_bog %>%\n",
        "  select(-c(Lp, Ingpcug, lIngpcug, train, Clase))\n",
        "\n",
        "#Validation set para train sin Bogotá\n",
        "train_clas <- train_clas #%>%\n",
        "  #mutate(Pobre = factor(Pobre, levels = c(0,1), labels = c(\"si\", \"no\")))\n",
        "\n",
        "set.seed(123)\n",
        "\n",
        "validation_set <- train_clas %>%\n",
        "  sample_frac(0.15)\n",
        "\n",
        "validation_pre_train <- train_clas %>%\n",
        "  anti_join(validation_set, by = \"id\")\n",
        "\n",
        "validation_test <- validation_pre_train %>%\n",
        "  sample_frac(0.15)\n",
        "\n",
        "validation_train <- validation_pre_train %>%\n",
        "  anti_join(validation_test, by = \"id\") %>%\n",
        "  select(-id)\n",
        "\n",
        "# Modelo ------------------------------------------------------------------\n",
        "\n",
        "# Recipe (prep) -----------------------------------------------------------\n",
        "\n",
        "rec_prep_networks <-\n",
        "  recipe(Pobre ~ ., data = validation_train) %>%\n",
        "  step_dummy(all_of(c(\"Dominio\")), -all_outcomes()) %>%\n",
        "  step_interact(terms = ~ P5130:starts_with(\"Depto\")) %>%\n",
        "  step_interact(terms = ~ Educ_avg:starts_with(\"Depto\")) %>%\n",
        "  step_interact(terms = ~ tasa_ocupados:starts_with(\"Depto\")) %>%\n",
        "  step_interact(terms = ~ tasa_inactivos:starts_with(\"Depto\")) %>%\n",
        "  step_interact(terms = ~ P5000:starts_with(\"Depto\")) %>%\n",
        "  step_interact(terms = ~ edad_pet:starts_with(\"Depto\")) %>%\n",
        "  step_rm(any_of(remove_lasso)) %>%\n",
        "  step_zv(all_predictors()) %>%\n",
        "  step_normalize(all_numeric_predictors(), -all_outcomes()) %>%\n",
        "  step_pca(all_numeric_predictors(), threshold = 0.8)\n",
        "\n",
        "\n",
        "# Aplicar el preprocesamiento para normalizar los datos\n",
        "x_val <- prep(rec_prep_networks) %>% bake(new_data = validation_train) %>% select(-Pobre)\n",
        "\n",
        "# Convertir columnas categóricas a variables dummy\n",
        "x_val <- x_val %>%\n",
        "  model.matrix(~ . - 1, data = .)\n",
        "\n",
        "# Aplicar el preprocesamiento para normalizar los datos\n",
        "x_test <- prep(rec_prep_networks) %>% bake(new_data = test) #%>% select(-Pobre)\n",
        "\n",
        "x_test <- x_test %>%\n",
        "  model.matrix(~ . - 1, data = .)\n",
        "\n",
        "# Aplicar el preprocesamiento para normalizar los datos\n",
        "x_val_set <- prep(rec_prep_networks) %>% bake(new_data = validation_set) %>% select(-Pobre)\n",
        "\n",
        "# Convertir columnas categóricas a variables dummy\n",
        "x_val_set <- x_val_set %>%\n",
        "  model.matrix(~ . - 1, data = .)\n",
        "\n",
        "# Aplicar el preprocesamiento para normalizar los datos\n",
        "x_val_test <- prep(rec_prep_networks) %>% bake(new_data = validation_test) %>% select(-Pobre)\n",
        "\n",
        "x_val_test <- x_val_test %>%\n",
        "  model.matrix(~ . - 1, data = .)\n",
        "\n",
        "# Sacar dependientes y eliminarlas\n",
        "y_val <- validation_train$Pobre\n",
        "y_val_set <- validation_set$Pobre\n",
        "y_val_test <- validation_test$Pobre\n",
        "\n",
        "# Entrenamiento -----------------------------------------------------------\n",
        "\n",
        "# Definir las métricas\n",
        "METRICS <- list(\n",
        "  metric_binary_accuracy(name = 'accuracy'),\n",
        "  metric_precision(name = 'precision'),\n",
        "  metric_recall(name = 'recall'),\n",
        "  metric_auc(name = 'auc')\n",
        ")\n",
        "\n",
        "EPOCHS <- 30\n",
        "BATCH_SIZE <- 3000\n"
      ],
      "metadata": {
        "colab": {
          "base_uri": "https://localhost:8080/"
        },
        "id": "ER57pP4QEBBm",
        "outputId": "03650533-4ce4-404b-8d11-8cfd0c40e2ab"
      },
      "execution_count": null,
      "outputs": [
        {
          "output_type": "stream",
          "name": "stderr",
          "text": [
            "\u001b[1mRows: \u001b[22m\u001b[34m238\u001b[39m \u001b[1mColumns: \u001b[22m\u001b[34m3\u001b[39m\n",
            "\u001b[36m──\u001b[39m \u001b[1mColumn specification\u001b[22m \u001b[36m────────────────────────────────────────────────────────\u001b[39m\n",
            "\u001b[1mDelimiter:\u001b[22m \",\"\n",
            "\u001b[31mchr\u001b[39m (1): term\n",
            "\u001b[32mdbl\u001b[39m (2): estimate, penalty\n",
            "\n",
            "\u001b[36mℹ\u001b[39m Use `spec()` to retrieve the full column specification for this data.\n",
            "\u001b[36mℹ\u001b[39m Specify the column types or set `show_col_types = FALSE` to quiet this message.\n"
          ]
        }
      ]
    },
    {
      "cell_type": "code",
      "source": [
        "# Arquitectura del modelo\n",
        "model <- keras_model_sequential() %>%\n",
        "  layer_dense(units = 150, activation = 'relu',\n",
        "              input_shape = dim(x_val)[2],\n",
        "              kernel_initializer = initializer_random_uniform()) %>%\n",
        "  layer_dropout(rate = 0.1) %>%\n",
        "  layer_dense(units = 150, activation = 'relu',\n",
        "              input_shape = dim(x_val)[2],\n",
        "              kernel_initializer = initializer_random_uniform()) %>%\n",
        "  layer_dropout(rate = 0.1) %>%\n",
        "  layer_dense(units = 1, activation = 'sigmoid')\n",
        "\n",
        "# El compilador del modelo\n",
        "model %>% compile(\n",
        "  optimizer = optimizer_adam(learning_rate = 1e-3),\n",
        "  loss = 'binary_crossentropy',\n",
        "  metrics = METRICS\n",
        ")\n",
        "\n"
      ],
      "metadata": {
        "id": "zGqxtU1Qli-f"
      },
      "execution_count": null,
      "outputs": []
    },
    {
      "cell_type": "code",
      "source": [
        "# Entrenamiento\n",
        "historia_modelo_basico <- model %>% fit(\n",
        "  x = x_val,\n",
        "  y = as.matrix(y_val),\n",
        "  batch_size = BATCH_SIZE,\n",
        "  epochs = 30,\n",
        "  validation_data = list(x_val_set, as.matrix(y_val_set)),\n",
        "  verbose = 0,\n",
        "  seed = 12\n",
        ")"
      ],
      "metadata": {
        "id": "YxLFck_RHm1J"
      },
      "execution_count": null,
      "outputs": []
    },
    {
      "cell_type": "code",
      "source": [
        "results <- model %>% evaluate(x_val_test, y_val_test, verbose = 0)\n",
        "results"
      ],
      "metadata": {
        "colab": {
          "base_uri": "https://localhost:8080/",
          "height": 52
        },
        "id": "Z9dN4aCDE1uv",
        "outputId": "09aa090b-c0fc-46d5-aa33-86f6dccf0e61"
      },
      "execution_count": null,
      "outputs": [
        {
          "output_type": "display_data",
          "data": {
            "text/html": [
              "<style>\n",
              ".dl-inline {width: auto; margin:0; padding: 0}\n",
              ".dl-inline>dt, .dl-inline>dd {float: none; width: auto; display: inline-block}\n",
              ".dl-inline>dt::after {content: \":\\0020\"; padding-right: .5ex}\n",
              ".dl-inline>dt:not(:first-of-type) {padding-left: .5ex}\n",
              "</style><dl class=dl-inline><dt>loss</dt><dd>0.284165650606155</dd><dt>accuracy</dt><dd>0.873202919960022</dd><dt>precision</dt><dd>0.73081362247467</dd><dt>recall</dt><dd>0.618408203125</dd><dt>auc</dt><dd>0.918821573257446</dd></dl>\n"
            ],
            "text/markdown": "loss\n:   0.284165650606155accuracy\n:   0.873202919960022precision\n:   0.73081362247467recall\n:   0.618408203125auc\n:   0.918821573257446\n\n",
            "text/latex": "\\begin{description*}\n\\item[loss] 0.284165650606155\n\\item[accuracy] 0.873202919960022\n\\item[precision] 0.73081362247467\n\\item[recall] 0.618408203125\n\\item[auc] 0.918821573257446\n\\end{description*}\n",
            "text/plain": [
              "     loss  accuracy precision    recall       auc \n",
              "0.2841657 0.8732029 0.7308136 0.6184082 0.9188216 "
            ]
          },
          "metadata": {}
        }
      ]
    },
    {
      "cell_type": "code",
      "source": [
        "#Calcular el F1_score\n",
        "f1_score <- 2*results['precision'] * results['recall']/(results['precision']+results['recall'])\n",
        "f1_score"
      ],
      "metadata": {
        "colab": {
          "base_uri": "https://localhost:8080/",
          "height": 34
        },
        "id": "zRVn8udZseZB",
        "outputId": "5ab5ccd2-432a-4011-c363-c565ab340019"
      },
      "execution_count": null,
      "outputs": [
        {
          "output_type": "display_data",
          "data": {
            "text/html": [
              "<strong>precision:</strong> 0.66992859219864"
            ],
            "text/markdown": "**precision:** 0.66992859219864",
            "text/latex": "\\textbf{precision:} 0.66992859219864",
            "text/plain": [
              "precision \n",
              "0.6699286 "
            ]
          },
          "metadata": {}
        }
      ]
    },
    {
      "cell_type": "markdown",
      "source": [
        "##Undersampling!"
      ],
      "metadata": {
        "id": "pK8HJqBZmg4G"
      }
    },
    {
      "cell_type": "code",
      "source": [
        "summary(validation_train$Pobre)"
      ],
      "metadata": {
        "colab": {
          "base_uri": "https://localhost:8080/",
          "height": 53
        },
        "id": "VfPAKUzImdbl",
        "outputId": "d6cb401c-aae4-4f69-fe12-8795cc17fd05"
      },
      "execution_count": null,
      "outputs": [
        {
          "output_type": "display_data",
          "data": {
            "text/plain": [
              "   Min. 1st Qu.  Median    Mean 3rd Qu.    Max. \n",
              " 0.0000  0.0000  0.0000  0.2075  0.0000  1.0000 "
            ]
          },
          "metadata": {}
        }
      ]
    },
    {
      "cell_type": "code",
      "source": [
        "down_rec <- recipe(Pobre ~ ., data = validation_train %>%mutate(Pobre = factor(Pobre, levels = c(0,1)))) %>%\n",
        "  step_downsample(Pobre, under_ratio = 1.5 )\n",
        "validation_train_under <- prep(down_rec) %>% bake(new_data = NULL) %>% mutate(Pobre = as.numeric(as.character(Pobre)))"
      ],
      "metadata": {
        "id": "7fOnp1SDmdZi"
      },
      "execution_count": null,
      "outputs": []
    },
    {
      "cell_type": "code",
      "source": [
        "summary(validation_train_under$Pobre)"
      ],
      "metadata": {
        "colab": {
          "base_uri": "https://localhost:8080/",
          "height": 53
        },
        "id": "P8V0TN9gmdRC",
        "outputId": "13f83cd8-81e7-4a84-9006-f04340033954"
      },
      "execution_count": null,
      "outputs": [
        {
          "output_type": "display_data",
          "data": {
            "text/plain": [
              "   Min. 1st Qu.  Median    Mean 3rd Qu.    Max. \n",
              "    0.0     0.0     0.0     0.4     1.0     1.0 "
            ]
          },
          "metadata": {}
        }
      ]
    },
    {
      "cell_type": "code",
      "source": [
        "# Aplicar el preprocesamiento para normalizar los datos\n",
        "x_val_under <- prep(rec_prep_networks) %>% bake(new_data = validation_train_under) %>% select(-Pobre)\n",
        "\n",
        "# Convertir columnas categóricas a variables dummy\n",
        "x_val_under <- x_val_under %>%\n",
        "  model.matrix(~ . - 1, data = .)\n",
        "\n",
        "# Under\n",
        "y_val_under <- validation_train_under$Pobre"
      ],
      "metadata": {
        "id": "qkS5l7oHqXZl"
      },
      "execution_count": null,
      "outputs": []
    },
    {
      "cell_type": "code",
      "source": [
        "# Entrenamiento\n",
        "historia_modelo_under <- model %>% fit(\n",
        "  x = x_val_under,\n",
        "  y = as.matrix(y_val_under),\n",
        "  batch_size = BATCH_SIZE,\n",
        "  epochs = EPOCHS,\n",
        "  validation_data = list(x_val_set, as.matrix(y_val_set)),\n",
        "  verbose = 0,\n",
        "  seed = 12\n",
        ")"
      ],
      "metadata": {
        "id": "gV7T70dTq-Il"
      },
      "execution_count": null,
      "outputs": []
    },
    {
      "cell_type": "code",
      "source": [
        "results_undersampling <- model %>% evaluate(x_val_test, y_val_test, verbose = 0)\n",
        "results_undersampling"
      ],
      "metadata": {
        "colab": {
          "base_uri": "https://localhost:8080/",
          "height": 52
        },
        "id": "mCDRrzpmq-GN",
        "outputId": "f07ddcbe-1eba-4be8-f17f-f6c08f3cde0e"
      },
      "execution_count": null,
      "outputs": [
        {
          "output_type": "display_data",
          "data": {
            "text/html": [
              "<style>\n",
              ".dl-inline {width: auto; margin:0; padding: 0}\n",
              ".dl-inline>dt, .dl-inline>dd {float: none; width: auto; display: inline-block}\n",
              ".dl-inline>dt::after {content: \":\\0020\"; padding-right: .5ex}\n",
              ".dl-inline>dt:not(:first-of-type) {padding-left: .5ex}\n",
              "</style><dl class=dl-inline><dt>loss</dt><dd>0.332890450954437</dd><dt>accuracy</dt><dd>0.849682509899139</dd><dt>precision</dt><dd>0.604599833488464</dd><dt>recall</dt><dd>0.80224609375</dd><dt>auc</dt><dd>0.917958378791809</dd></dl>\n"
            ],
            "text/markdown": "loss\n:   0.332890450954437accuracy\n:   0.849682509899139precision\n:   0.604599833488464recall\n:   0.80224609375auc\n:   0.917958378791809\n\n",
            "text/latex": "\\begin{description*}\n\\item[loss] 0.332890450954437\n\\item[accuracy] 0.849682509899139\n\\item[precision] 0.604599833488464\n\\item[recall] 0.80224609375\n\\item[auc] 0.917958378791809\n\\end{description*}\n",
            "text/plain": [
              "     loss  accuracy precision    recall       auc \n",
              "0.3328905 0.8496825 0.6045998 0.8022461 0.9179584 "
            ]
          },
          "metadata": {}
        }
      ]
    },
    {
      "cell_type": "code",
      "source": [
        "#Calcular el F1_score\n",
        "f1_score <- 2*results_undersampling['precision'] * results_undersampling['recall']/(results_undersampling['precision']+results_undersampling['recall'])\n",
        "f1_score"
      ],
      "metadata": {
        "colab": {
          "base_uri": "https://localhost:8080/",
          "height": 34
        },
        "id": "gZWqPiSRq-D0",
        "outputId": "39b3a665-9ac5-4245-85e2-20bc8f8c1a32"
      },
      "execution_count": null,
      "outputs": [
        {
          "output_type": "display_data",
          "data": {
            "text/html": [
              "<strong>precision:</strong> 0.689539409123663"
            ],
            "text/markdown": "**precision:** 0.689539409123663",
            "text/latex": "\\textbf{precision:} 0.689539409123663",
            "text/plain": [
              "precision \n",
              "0.6895394 "
            ]
          },
          "metadata": {}
        }
      ]
    },
    {
      "cell_type": "code",
      "source": [
        "# En adición al undersampling podemos maximizar ROC\n",
        "# ROC function  -----------------------------------------------------------\n",
        "ROC_function <- function(predictions_real_df) {\n",
        "\n",
        "  # Curva ROC ---------------------------------------------------------------\n",
        "  curva_ROC <- roc(predictions_real_df$real, predictions_real_df$predictions)\n",
        "\n",
        "  #Coordenadas del \"top-left\" de la curva ROC\n",
        "  ROC_thresh <- coords(curva_ROC, x = \"best\", best.method = \"closest.topleft\")\n",
        "\n",
        "  ROC_thresh\n",
        "}\n"
      ],
      "metadata": {
        "id": "xMkVG7RIq-Be"
      },
      "execution_count": null,
      "outputs": []
    },
    {
      "cell_type": "code",
      "source": [
        "#Predict en val_test para volver a encontrar las métricas\n",
        "boost_predictions_class <- predict(boost_final_fit, test, type = \"prob\")$.pred_si %>%\n",
        "  bind_cols(test$id) %>%\n",
        "  rename(c(\"id\"=\"...2\")) %>%\n",
        "  mutate(pobre = ifelse(...1>=roc_thresh_boost$threshold, 1, 0)) %>%\n",
        "  select(-c(...1))"
      ],
      "metadata": {
        "id": "B7iW8u0vwGrG"
      },
      "execution_count": null,
      "outputs": []
    },
    {
      "cell_type": "code",
      "source": [
        "#ROC\n",
        "predictions_real_df <- predict(model, x_val_test) %>%\n",
        "  bind_cols(y_val_test) %>%\n",
        "  rename(c(\"real\" = \"...2\", \"predictions\"=\"...1\")) %>%\n",
        "  mutate(real = factor(real, levels = c(0,1))) %>%\n",
        "  fct_relevel\n",
        "\n",
        "roc_thresh_nn <- ROC_function(predictions_real_df)\n",
        "roc_thresh_nn"
      ],
      "metadata": {
        "colab": {
          "base_uri": "https://localhost:8080/",
          "height": 254
        },
        "id": "VW7Sx7B8vWjj",
        "outputId": "de0e7ae5-8db1-4475-b820-2d415effe48b"
      },
      "execution_count": null,
      "outputs": [
        {
          "output_type": "stream",
          "name": "stderr",
          "text": [
            "\u001b[1m\u001b[22mNew names:\n",
            "\u001b[36m•\u001b[39m `` -> `...1`\n",
            "\u001b[36m•\u001b[39m `` -> `...2`\n",
            "Setting levels: control = 0, case = 1\n",
            "\n",
            "Setting direction: controls < cases\n",
            "\n"
          ]
        },
        {
          "output_type": "display_data",
          "data": {
            "text/html": [
              "<table class=\"dataframe\">\n",
              "<caption>A data.frame: 1 × 3</caption>\n",
              "<thead>\n",
              "\t<tr><th scope=col>threshold</th><th scope=col>specificity</th><th scope=col>sensitivity</th></tr>\n",
              "\t<tr><th scope=col>&lt;dbl&gt;</th><th scope=col>&lt;dbl&gt;</th><th scope=col>&lt;dbl&gt;</th></tr>\n",
              "</thead>\n",
              "<tbody>\n",
              "\t<tr><td>0.4256816</td><td>0.8309064</td><td>0.8447266</td></tr>\n",
              "</tbody>\n",
              "</table>\n"
            ],
            "text/markdown": "\nA data.frame: 1 × 3\n\n| threshold &lt;dbl&gt; | specificity &lt;dbl&gt; | sensitivity &lt;dbl&gt; |\n|---|---|---|\n| 0.4256816 | 0.8309064 | 0.8447266 |\n\n",
            "text/latex": "A data.frame: 1 × 3\n\\begin{tabular}{lll}\n threshold & specificity & sensitivity\\\\\n <dbl> & <dbl> & <dbl>\\\\\n\\hline\n\t 0.4256816 & 0.8309064 & 0.8447266\\\\\n\\end{tabular}\n",
            "text/plain": [
              "  threshold specificity sensitivity\n",
              "1 0.4256816 0.8309064   0.8447266  "
            ]
          },
          "metadata": {}
        }
      ]
    },
    {
      "cell_type": "code",
      "source": [
        "# Enviar unas predicciones\n",
        "\n",
        "nn_predictions_class <- predict(model, x_test) %>%\n",
        "  bind_cols(test$id) %>%\n",
        "  rename(c(\"id\"=\"...2\")) %>%\n",
        "  mutate(pobre = ifelse(...1>=roc_thresh_nn$threshold, 1, 0)) %>%\n",
        "  select(-c(...1))# %>%\n",
        "  #replace_na(list(pobre = 0))\n"
      ],
      "metadata": {
        "colab": {
          "base_uri": "https://localhost:8080/"
        },
        "id": "MraTvYQb30iy",
        "outputId": "1a6ac830-36e9-4c53-995c-1a72215bdb49"
      },
      "execution_count": null,
      "outputs": [
        {
          "output_type": "stream",
          "name": "stderr",
          "text": [
            "\u001b[1m\u001b[22mNew names:\n",
            "\u001b[36m•\u001b[39m `` -> `...1`\n",
            "\u001b[36m•\u001b[39m `` -> `...2`\n"
          ]
        }
      ]
    },
    {
      "cell_type": "code",
      "source": [
        "write_csv(nn_predictions_class, \"classification_neural_networks.csv\")"
      ],
      "metadata": {
        "id": "Xvb-AvYZ4Xov"
      },
      "execution_count": null,
      "outputs": []
    }
  ]
}